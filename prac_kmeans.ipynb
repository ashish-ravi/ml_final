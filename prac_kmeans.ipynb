{
 "cells": [
  {
   "cell_type": "code",
   "execution_count": 2,
   "metadata": {},
   "outputs": [
    {
     "data": {
      "text/html": [
       "<div>\n",
       "<style scoped>\n",
       "    .dataframe tbody tr th:only-of-type {\n",
       "        vertical-align: middle;\n",
       "    }\n",
       "\n",
       "    .dataframe tbody tr th {\n",
       "        vertical-align: top;\n",
       "    }\n",
       "\n",
       "    .dataframe thead th {\n",
       "        text-align: right;\n",
       "    }\n",
       "</style>\n",
       "<table border=\"1\" class=\"dataframe\">\n",
       "  <thead>\n",
       "    <tr style=\"text-align: right;\">\n",
       "      <th></th>\n",
       "      <th>X1</th>\n",
       "      <th>X2</th>\n",
       "    </tr>\n",
       "  </thead>\n",
       "  <tbody>\n",
       "    <tr>\n",
       "      <th>0</th>\n",
       "      <td>5.9</td>\n",
       "      <td>3.2</td>\n",
       "    </tr>\n",
       "    <tr>\n",
       "      <th>1</th>\n",
       "      <td>4.6</td>\n",
       "      <td>2.9</td>\n",
       "    </tr>\n",
       "    <tr>\n",
       "      <th>2</th>\n",
       "      <td>6.2</td>\n",
       "      <td>2.8</td>\n",
       "    </tr>\n",
       "    <tr>\n",
       "      <th>3</th>\n",
       "      <td>4.7</td>\n",
       "      <td>3.2</td>\n",
       "    </tr>\n",
       "    <tr>\n",
       "      <th>4</th>\n",
       "      <td>5.5</td>\n",
       "      <td>4.2</td>\n",
       "    </tr>\n",
       "    <tr>\n",
       "      <th>5</th>\n",
       "      <td>5.0</td>\n",
       "      <td>3.0</td>\n",
       "    </tr>\n",
       "    <tr>\n",
       "      <th>6</th>\n",
       "      <td>4.9</td>\n",
       "      <td>3.1</td>\n",
       "    </tr>\n",
       "    <tr>\n",
       "      <th>7</th>\n",
       "      <td>6.7</td>\n",
       "      <td>3.1</td>\n",
       "    </tr>\n",
       "    <tr>\n",
       "      <th>8</th>\n",
       "      <td>5.1</td>\n",
       "      <td>3.8</td>\n",
       "    </tr>\n",
       "    <tr>\n",
       "      <th>9</th>\n",
       "      <td>6.0</td>\n",
       "      <td>3.0</td>\n",
       "    </tr>\n",
       "  </tbody>\n",
       "</table>\n",
       "</div>"
      ],
      "text/plain": [
       "    X1   X2\n",
       "0  5.9  3.2\n",
       "1  4.6  2.9\n",
       "2  6.2  2.8\n",
       "3  4.7  3.2\n",
       "4  5.5  4.2\n",
       "5  5.0  3.0\n",
       "6  4.9  3.1\n",
       "7  6.7  3.1\n",
       "8  5.1  3.8\n",
       "9  6.0  3.0"
      ]
     },
     "execution_count": 2,
     "metadata": {},
     "output_type": "execute_result"
    }
   ],
   "source": [
    "# import numpy as np\n",
    "# import pandas as pd\n",
    "# from copy import deepcopy\n",
    "# data = pd.read_csv('kmeans.csv', index_col=False)\n",
    "# data"
   ]
  },
  {
   "cell_type": "code",
   "execution_count": 2,
   "metadata": {},
   "outputs": [
    {
     "data": {
      "text/plain": [
       "array([[5.9, 3.2],\n",
       "       [4.6, 2.9],\n",
       "       [6.2, 2.8],\n",
       "       [4.7, 3.2],\n",
       "       [5.5, 4.2],\n",
       "       [5. , 3. ],\n",
       "       [4.9, 3.1],\n",
       "       [6.7, 3.1],\n",
       "       [5.1, 3.8],\n",
       "       [6. , 3. ]])"
      ]
     },
     "execution_count": 2,
     "metadata": {},
     "output_type": "execute_result"
    }
   ],
   "source": [
    "# x1 = data['X1'].values\n",
    "# x2 = data['X2'].values\n",
    "# X = np.array(list(zip(x1,x2)))\n",
    "# X"
   ]
  },
  {
   "cell_type": "code",
   "execution_count": 4,
   "metadata": {},
   "outputs": [
    {
     "data": {
      "text/plain": [
       "array([[6.5, 3.2],\n",
       "       [6.6, 3.5],\n",
       "       [6.7, 3.1]])"
      ]
     },
     "execution_count": 4,
     "metadata": {},
     "output_type": "execute_result"
    }
   ],
   "source": [
    "# c_x = [6.5,6.6,6.7]\n",
    "# c_y = [3.2,3.5,3.1]\n",
    "# Centroid = np.array(list(zip(c_x,c_y)))\n",
    "# Centroid"
   ]
  },
  {
   "cell_type": "code",
   "execution_count": 5,
   "metadata": {},
   "outputs": [],
   "source": [
    "# Centroid_old = np.zeros(Centroid.shape)"
   ]
  },
  {
   "cell_type": "code",
   "execution_count": 6,
   "metadata": {},
   "outputs": [
    {
     "data": {
      "text/plain": [
       "array([[0., 0.],\n",
       "       [0., 0.],\n",
       "       [0., 0.]])"
      ]
     },
     "execution_count": 6,
     "metadata": {},
     "output_type": "execute_result"
    }
   ],
   "source": [
    "# Centroid_old"
   ]
  },
  {
   "cell_type": "code",
   "execution_count": 7,
   "metadata": {},
   "outputs": [],
   "source": [
    "# clusters = np.zeros(len(X))"
   ]
  },
  {
   "cell_type": "code",
   "execution_count": 8,
   "metadata": {},
   "outputs": [
    {
     "data": {
      "text/plain": [
       "array([0., 0., 0., 0., 0., 0., 0., 0., 0., 0.])"
      ]
     },
     "execution_count": 8,
     "metadata": {},
     "output_type": "execute_result"
    }
   ],
   "source": [
    "# clusters"
   ]
  },
  {
   "cell_type": "code",
   "execution_count": 11,
   "metadata": {},
   "outputs": [],
   "source": [
    "# def euclidean(a,b,ax=1):\n",
    "#     return np.linalg.norm(a-b,axis=ax)"
   ]
  },
  {
   "cell_type": "code",
   "execution_count": 12,
   "metadata": {},
   "outputs": [
    {
     "name": "stdout",
     "output_type": "stream",
     "text": [
      "12.759310326189265\n"
     ]
    }
   ],
   "source": [
    "# error = euclidean(Centroid,Centroid_old,None)\n",
    "# print(error)"
   ]
  },
  {
   "cell_type": "code",
   "execution_count": 14,
   "metadata": {},
   "outputs": [
    {
     "name": "stdout",
     "output_type": "stream",
     "text": [
      "Distance:  [0.6        0.76157731 0.80622577]\n",
      "clusters:  0\n",
      "Distance:  [1.92353841 2.0880613  2.10950231]\n",
      "clusters:  0\n",
      "Distance:  [0.5        0.80622577 0.58309519]\n",
      "clusters:  0\n",
      "Distance:  [1.8        1.92353841 2.00249844]\n",
      "clusters:  0\n",
      "Distance:  [1.41421356 1.30384048 1.62788206]\n",
      "clusters:  1\n",
      "Distance:  [1.5132746  1.67630546 1.70293864]\n",
      "clusters:  0\n",
      "Distance:  [1.60312195 1.74642492 1.8       ]\n",
      "clusters:  0\n",
      "Distance:  [0.2236068  0.41231056 0.        ]\n",
      "clusters:  2\n",
      "Distance:  [1.52315462 1.52970585 1.74642492]\n",
      "clusters:  0\n",
      "Distance:  [0.53851648 0.78102497 0.70710678]\n",
      "clusters:  0\n",
      "point:  [array([5.9, 3.2]), array([4.6, 2.9]), array([6.2, 2.8]), array([4.7, 3.2]), array([5., 3.]), array([4.9, 3.1]), array([5.1, 3.8]), array([6., 3.])]\n",
      "point:  [array([5.5, 4.2])]\n",
      "point:  [array([6.7, 3.1])]\n",
      "Centroid after iteration:  1 is: \n",
      " [[5.3   3.125]\n",
      " [5.5   4.2  ]\n",
      " [6.7   3.1  ]]\n",
      "Error:  1.7735909900537947\n",
      "Distance:  [0.60466933 1.07703296 0.80622577]\n",
      "clusters:  0\n",
      "Distance:  [0.73527206 1.58113883 2.10950231]\n",
      "clusters:  0\n",
      "Distance:  [0.95688296 1.56524758 0.58309519]\n",
      "clusters:  2\n",
      "Distance:  [0.60466933 1.28062485 2.00249844]\n",
      "clusters:  0\n",
      "Distance:  [1.09344639 0.         1.62788206]\n",
      "clusters:  1\n",
      "Distance:  [0.325      1.3        1.70293864]\n",
      "clusters:  0\n",
      "Distance:  [0.40078049 1.25299641 1.8       ]\n",
      "clusters:  0\n",
      "Distance:  [1.4002232  1.62788206 0.        ]\n",
      "clusters:  2\n",
      "Distance:  [0.70400639 0.56568542 1.74642492]\n",
      "clusters:  1\n",
      "Distance:  [0.71107313 1.3        0.70710678]\n",
      "clusters:  2\n",
      "point:  [array([5.9, 3.2]), array([4.6, 2.9]), array([4.7, 3.2]), array([5., 3.]), array([4.9, 3.1])]\n",
      "point:  [array([5.5, 4.2]), array([5.1, 3.8])]\n",
      "point:  [array([6.2, 2.8]), array([6.7, 3.1]), array([6., 3.])]\n",
      "Centroid after iteration:  2 is: \n",
      " [[5.02       3.08      ]\n",
      " [5.3        4.        ]\n",
      " [6.3        2.96666667]]\n",
      "Error:  0.5815520421920791\n",
      "Distance:  [0.88814413 1.         0.46308147]\n",
      "clusters:  2\n",
      "Distance:  [0.45694639 1.30384048 1.70130669]\n",
      "clusters:  0\n",
      "Distance:  [1.21276543 1.5        0.19436506]\n",
      "clusters:  2\n",
      "Distance:  [0.34176015 1.         1.61692438]\n",
      "clusters:  0\n",
      "Distance:  [1.2185237  0.28284271 1.4700718 ]\n",
      "clusters:  1\n",
      "Distance:  [0.08246211 1.04403065 1.30042728]\n",
      "clusters:  0\n",
      "Distance:  [0.12165525 0.98488578 1.40633487]\n",
      "clusters:  0\n",
      "Distance:  [1.68011904 1.6643317  0.42163702]\n",
      "clusters:  2\n",
      "Distance:  [0.72443081 0.28284271 1.4609738 ]\n",
      "clusters:  1\n",
      "Distance:  [0.98325988 1.22065556 0.30184617]\n",
      "clusters:  2\n",
      "point:  [array([4.6, 2.9]), array([4.7, 3.2]), array([5., 3.]), array([4.9, 3.1])]\n",
      "point:  [array([5.5, 4.2]), array([5.1, 3.8])]\n",
      "point:  [array([5.9, 3.2]), array([6.2, 2.8]), array([6.7, 3.1]), array([6., 3.])]\n",
      "Centroid after iteration:  3 is: \n",
      " [[4.8   3.05 ]\n",
      " [5.3   4.   ]\n",
      " [6.2   3.025]]\n",
      "Error:  0.25040522713748925\n",
      "Distance:  [1.11018017 1.         0.3473111 ]\n",
      "clusters:  2\n",
      "Distance:  [0.25       1.30384048 1.60487538]\n",
      "clusters:  0\n",
      "Distance:  [1.42214627 1.5        0.225     ]\n",
      "clusters:  2\n",
      "Distance:  [0.18027756 1.         1.51017383]\n",
      "clusters:  0\n",
      "Distance:  [1.3462912  0.28284271 1.36770794]\n",
      "clusters:  1\n",
      "Distance:  [0.20615528 1.04403065 1.20026039]\n",
      "clusters:  0\n",
      "Distance:  [0.1118034  0.98488578 1.30216166]\n",
      "clusters:  0\n",
      "Distance:  [1.90065778 1.6643317  0.50559371]\n",
      "clusters:  2\n",
      "Distance:  [0.80777472 0.28284271 1.34559466]\n",
      "clusters:  1\n",
      "Distance:  [1.20104121 1.22065556 0.20155644]\n",
      "clusters:  2\n",
      "point:  [array([4.6, 2.9]), array([4.7, 3.2]), array([5., 3.]), array([4.9, 3.1])]\n",
      "point:  [array([5.5, 4.2]), array([5.1, 3.8])]\n",
      "point:  [array([5.9, 3.2]), array([6.2, 2.8]), array([6.7, 3.1]), array([6., 3.])]\n",
      "Centroid after iteration:  4 is: \n",
      " [[4.8   3.05 ]\n",
      " [5.3   4.   ]\n",
      " [6.2   3.025]]\n",
      "Error:  0.0\n"
     ]
    }
   ],
   "source": [
    "# k=3\n",
    "# iterr = 0\n",
    "# while error != 0:\n",
    "#     iterr = iterr + 1\n",
    "#     for i in range(len(X)):\n",
    "#         distances = euclidean(X[i], Centroid)\n",
    "#         print(\"Distance: \", distances)\n",
    "#         cluster = np.argmin(distances)\n",
    "#         print(\"clusters: \", cluster)\n",
    "#         clusters[i] = cluster\n",
    "    \n",
    "#     Centroid_old = deepcopy(Centroid)\n",
    "    \n",
    "#     for p in range(k):\n",
    "#         points = [X[j] for j in range(len(X)) if clusters[j] == p ]\n",
    "#         print(\"point: \", points)\n",
    "#         Centroid[p] = np.mean(points, axis=0)\n",
    "#     print(\"Centroid after iteration: \", iterr,\"is: \\n\", Centroid)\n",
    "#     error = euclidean(Centroid,Centroid_old,None)\n",
    "#     print(\"Error: \", error)\n",
    "            "
   ]
  },
  {
   "cell_type": "code",
   "execution_count": 3,
   "metadata": {},
   "outputs": [],
   "source": [
    "import pandas as pd\n",
    "import numpy as np\n",
    "from copy import deepcopy"
   ]
  },
  {
   "cell_type": "code",
   "execution_count": 5,
   "metadata": {},
   "outputs": [
    {
     "data": {
      "text/html": [
       "<div>\n",
       "<style scoped>\n",
       "    .dataframe tbody tr th:only-of-type {\n",
       "        vertical-align: middle;\n",
       "    }\n",
       "\n",
       "    .dataframe tbody tr th {\n",
       "        vertical-align: top;\n",
       "    }\n",
       "\n",
       "    .dataframe thead th {\n",
       "        text-align: right;\n",
       "    }\n",
       "</style>\n",
       "<table border=\"1\" class=\"dataframe\">\n",
       "  <thead>\n",
       "    <tr style=\"text-align: right;\">\n",
       "      <th></th>\n",
       "      <th>X1</th>\n",
       "      <th>X2</th>\n",
       "    </tr>\n",
       "  </thead>\n",
       "  <tbody>\n",
       "    <tr>\n",
       "      <th>0</th>\n",
       "      <td>5.9</td>\n",
       "      <td>3.2</td>\n",
       "    </tr>\n",
       "    <tr>\n",
       "      <th>1</th>\n",
       "      <td>4.6</td>\n",
       "      <td>2.9</td>\n",
       "    </tr>\n",
       "    <tr>\n",
       "      <th>2</th>\n",
       "      <td>6.2</td>\n",
       "      <td>2.8</td>\n",
       "    </tr>\n",
       "    <tr>\n",
       "      <th>3</th>\n",
       "      <td>4.7</td>\n",
       "      <td>3.2</td>\n",
       "    </tr>\n",
       "    <tr>\n",
       "      <th>4</th>\n",
       "      <td>5.5</td>\n",
       "      <td>4.2</td>\n",
       "    </tr>\n",
       "    <tr>\n",
       "      <th>5</th>\n",
       "      <td>5.0</td>\n",
       "      <td>3.0</td>\n",
       "    </tr>\n",
       "    <tr>\n",
       "      <th>6</th>\n",
       "      <td>4.9</td>\n",
       "      <td>3.1</td>\n",
       "    </tr>\n",
       "    <tr>\n",
       "      <th>7</th>\n",
       "      <td>6.7</td>\n",
       "      <td>3.1</td>\n",
       "    </tr>\n",
       "    <tr>\n",
       "      <th>8</th>\n",
       "      <td>5.1</td>\n",
       "      <td>3.8</td>\n",
       "    </tr>\n",
       "    <tr>\n",
       "      <th>9</th>\n",
       "      <td>6.0</td>\n",
       "      <td>3.0</td>\n",
       "    </tr>\n",
       "  </tbody>\n",
       "</table>\n",
       "</div>"
      ],
      "text/plain": [
       "    X1   X2\n",
       "0  5.9  3.2\n",
       "1  4.6  2.9\n",
       "2  6.2  2.8\n",
       "3  4.7  3.2\n",
       "4  5.5  4.2\n",
       "5  5.0  3.0\n",
       "6  4.9  3.1\n",
       "7  6.7  3.1\n",
       "8  5.1  3.8\n",
       "9  6.0  3.0"
      ]
     },
     "execution_count": 5,
     "metadata": {},
     "output_type": "execute_result"
    }
   ],
   "source": [
    "data = pd.read_csv(\"kmeans.csv\")\n",
    "data"
   ]
  },
  {
   "cell_type": "code",
   "execution_count": 6,
   "metadata": {},
   "outputs": [],
   "source": [
    "x1 = data[\"X1\"]\n",
    "x2 = data[\"X2\"]"
   ]
  },
  {
   "cell_type": "code",
   "execution_count": 7,
   "metadata": {},
   "outputs": [
    {
     "data": {
      "text/plain": [
       "array([[5.9, 3.2],\n",
       "       [4.6, 2.9],\n",
       "       [6.2, 2.8],\n",
       "       [4.7, 3.2],\n",
       "       [5.5, 4.2],\n",
       "       [5. , 3. ],\n",
       "       [4.9, 3.1],\n",
       "       [6.7, 3.1],\n",
       "       [5.1, 3.8],\n",
       "       [6. , 3. ]])"
      ]
     },
     "execution_count": 7,
     "metadata": {},
     "output_type": "execute_result"
    }
   ],
   "source": [
    "X = np.array(list(zip(x1,x2)))\n",
    "X"
   ]
  },
  {
   "cell_type": "code",
   "execution_count": 26,
   "metadata": {},
   "outputs": [
    {
     "data": {
      "text/plain": [
       "array([[6.2, 3.2],\n",
       "       [6.6, 3.7],\n",
       "       [6.5, 3. ]])"
      ]
     },
     "execution_count": 26,
     "metadata": {},
     "output_type": "execute_result"
    }
   ],
   "source": [
    "cx = [6.2,6.6,6.5]\n",
    "cy = [3.2,3.7,3.0]\n",
    "Centroid = np.array(list(zip(cx,cy)))\n",
    "Centroid"
   ]
  },
  {
   "cell_type": "code",
   "execution_count": 27,
   "metadata": {},
   "outputs": [
    {
     "data": {
      "text/plain": [
       "array([[0., 0.],\n",
       "       [0., 0.],\n",
       "       [0., 0.]])"
      ]
     },
     "execution_count": 27,
     "metadata": {},
     "output_type": "execute_result"
    }
   ],
   "source": [
    "Centroid_old = np.zeros(Centroid.shape)\n",
    "Centroid_old"
   ]
  },
  {
   "cell_type": "code",
   "execution_count": 28,
   "metadata": {},
   "outputs": [
    {
     "data": {
      "text/plain": [
       "array([0., 0., 0., 0., 0., 0., 0., 0., 0., 0.])"
      ]
     },
     "execution_count": 28,
     "metadata": {},
     "output_type": "execute_result"
    }
   ],
   "source": [
    "clusters = np.zeros(len(X))\n",
    "clusters"
   ]
  },
  {
   "cell_type": "code",
   "execution_count": 29,
   "metadata": {},
   "outputs": [],
   "source": [
    "def euclidean(a,b,ax=1):\n",
    "    return np.linalg.norm(a-b,axis=ax)"
   ]
  },
  {
   "cell_type": "code",
   "execution_count": 30,
   "metadata": {},
   "outputs": [
    {
     "data": {
      "text/plain": [
       "12.53714481052205"
      ]
     },
     "execution_count": 30,
     "metadata": {},
     "output_type": "execute_result"
    }
   ],
   "source": [
    "error = euclidean(Centroid,Centroid_old,None)\n",
    "error"
   ]
  },
  {
   "cell_type": "code",
   "execution_count": 31,
   "metadata": {},
   "outputs": [
    {
     "name": "stdout",
     "output_type": "stream",
     "text": [
      "Distance=  [0.3        0.86023253 0.63245553]\n",
      "Cluster=  0\n",
      "Distance=  [1.62788206 2.15406592 1.90262976]\n",
      "Cluster=  0\n",
      "Distance=  [0.4        0.98488578 0.36055513]\n",
      "Cluster=  2\n",
      "Distance=  [1.5        1.96468827 1.81107703]\n",
      "Cluster=  0\n",
      "Distance=  [1.22065556 1.2083046  1.56204994]\n",
      "Cluster=  1\n",
      "Distance=  [1.21655251 1.74642492 1.5       ]\n",
      "Cluster=  0\n",
      "Distance=  [1.30384048 1.80277564 1.60312195]\n",
      "Cluster=  0\n",
      "Distance=  [0.50990195 0.60827625 0.2236068 ]\n",
      "Cluster=  2\n",
      "Distance=  [1.25299641 1.50332964 1.61245155]\n",
      "Cluster=  0\n",
      "Distance=  [0.28284271 0.92195445 0.5       ]\n",
      "Cluster=  0\n",
      "Points=  [array([5.9, 3.2]), array([4.6, 2.9]), array([4.7, 3.2]), array([5., 3.]), array([4.9, 3.1]), array([5.1, 3.8]), array([6., 3.])]\n",
      "Points=  [array([5.5, 4.2])]\n",
      "Points=  [array([6.2, 2.8]), array([6.7, 3.1])]\n",
      "Centroid after itteration  1  is: \n",
      " [[5.17142857 3.17142857]\n",
      " [5.5        4.2       ]\n",
      " [6.45       2.95      ]]\n",
      "Error:  1.588639515498743\n",
      "Distance=  [0.72913144 1.07703296 0.6041523 ]\n",
      "Cluster=  2\n",
      "Distance=  [0.63261685 1.58113883 1.85067555]\n",
      "Cluster=  0\n",
      "Distance=  [1.09358053 1.56524758 0.29154759]\n",
      "Cluster=  2\n",
      "Distance=  [0.47229358 1.28062485 1.76776695]\n",
      "Cluster=  0\n",
      "Distance=  [1.079777   0.         1.57003185]\n",
      "Cluster=  1\n",
      "Distance=  [0.24243661 1.3        1.45086181]\n",
      "Cluster=  0\n",
      "Distance=  [0.28066975 1.25299641 1.55724115]\n",
      "Cluster=  0\n",
      "Distance=  [1.53023941 1.62788206 0.29154759]\n",
      "Cluster=  2\n",
      "Distance=  [0.63261685 0.56568542 1.59530561]\n",
      "Cluster=  1\n",
      "Distance=  [0.84611959 1.3        0.45276926]\n",
      "Cluster=  2\n",
      "Points=  [array([4.6, 2.9]), array([4.7, 3.2]), array([5., 3.]), array([4.9, 3.1])]\n",
      "Points=  [array([5.5, 4.2]), array([5.1, 3.8])]\n",
      "Points=  [array([5.9, 3.2]), array([6.2, 2.8]), array([6.7, 3.1]), array([6., 3.])]\n",
      "Centroid after itteration  2  is: \n",
      " [[4.8   3.05 ]\n",
      " [5.3   4.   ]\n",
      " [6.2   3.025]]\n",
      "Error:  0.5484788798419251\n",
      "Distance=  [1.11018017 1.         0.3473111 ]\n",
      "Cluster=  2\n",
      "Distance=  [0.25       1.30384048 1.60487538]\n",
      "Cluster=  0\n",
      "Distance=  [1.42214627 1.5        0.225     ]\n",
      "Cluster=  2\n",
      "Distance=  [0.18027756 1.         1.51017383]\n",
      "Cluster=  0\n",
      "Distance=  [1.3462912  0.28284271 1.36770794]\n",
      "Cluster=  1\n",
      "Distance=  [0.20615528 1.04403065 1.20026039]\n",
      "Cluster=  0\n",
      "Distance=  [0.1118034  0.98488578 1.30216166]\n",
      "Cluster=  0\n",
      "Distance=  [1.90065778 1.6643317  0.50559371]\n",
      "Cluster=  2\n",
      "Distance=  [0.80777472 0.28284271 1.34559466]\n",
      "Cluster=  1\n",
      "Distance=  [1.20104121 1.22065556 0.20155644]\n",
      "Cluster=  2\n",
      "Points=  [array([4.6, 2.9]), array([4.7, 3.2]), array([5., 3.]), array([4.9, 3.1])]\n",
      "Points=  [array([5.5, 4.2]), array([5.1, 3.8])]\n",
      "Points=  [array([5.9, 3.2]), array([6.2, 2.8]), array([6.7, 3.1]), array([6., 3.])]\n",
      "Centroid after itteration  3  is: \n",
      " [[4.8   3.05 ]\n",
      " [5.3   4.   ]\n",
      " [6.2   3.025]]\n",
      "Error:  0.0\n"
     ]
    }
   ],
   "source": [
    "k=3\n",
    "itter = 0\n",
    "while error!=0:\n",
    "    itter+=1\n",
    "    for i in range(len(X)):\n",
    "        distance = euclidean(X[i],Centroid)\n",
    "        print(\"Distance= \",distance)\n",
    "        cluster = np.argmin(distance)\n",
    "        print(\"Cluster= \",cluster)\n",
    "        clusters[i] = cluster\n",
    "    \n",
    "    Centroid_old = deepcopy(Centroid)\n",
    "    \n",
    "    for p in range(k):\n",
    "        points = [X[j] for j in range(len(X)) if clusters[j] == p ]\n",
    "        print(\"Points= \",points)\n",
    "        Centroid[p] = np.mean(points,axis=0)\n",
    "    print(\"Centroid after itteration \", itter, \" is: \\n\",Centroid)\n",
    "    error = euclidean(Centroid,Centroid_old,None)\n",
    "    print(\"Error: \",error)\n",
    "    "
   ]
  },
  {
   "cell_type": "code",
   "execution_count": null,
   "metadata": {},
   "outputs": [],
   "source": []
  }
 ],
 "metadata": {
  "kernelspec": {
   "display_name": "Python 3",
   "language": "python",
   "name": "python3"
  },
  "language_info": {
   "codemirror_mode": {
    "name": "ipython",
    "version": 3
   },
   "file_extension": ".py",
   "mimetype": "text/x-python",
   "name": "python",
   "nbconvert_exporter": "python",
   "pygments_lexer": "ipython3",
   "version": "3.7.3"
  }
 },
 "nbformat": 4,
 "nbformat_minor": 2
}
