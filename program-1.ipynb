{
 "cells": [
  {
   "cell_type": "code",
   "execution_count": 1,
   "metadata": {},
   "outputs": [
    {
     "name": "stdout",
     "output_type": "stream",
     "text": [
      "121.24000000000001\n",
      "121.24\n"
     ]
    }
   ],
   "source": [
    "#mean\n",
    "import statistics\n",
    "a = [115.3,195.5,120.5,110.2,90.4,105.6,110.9,116.3,122.3,125.4]\n",
    "n = len(a)\n",
    "mean = sum(a)/n\n",
    "print(mean)\n",
    "print(statistics.mean(a))"
   ]
  },
  {
   "cell_type": "code",
   "execution_count": 47,
   "metadata": {},
   "outputs": [
    {
     "name": "stdout",
     "output_type": "stream",
     "text": [
      "115.8\n",
      "115.8\n"
     ]
    }
   ],
   "source": [
    "#median\n",
    "b = [115.3,195.5,120.5,110.2,90.4,105.6,110.9,116.3,122.3,125.4]\n",
    "n = len(b)\n",
    "b.sort()\n",
    "\n",
    "if n%2 == 0:\n",
    "    median1=b[n//2]\n",
    "    median2=b[n//2-1]\n",
    "    median=(median1+median2)/2\n",
    "else:\n",
    "    median=b[n//2]\n",
    "print(median)\n",
    "print(statistics.median(b))"
   ]
  },
  {
   "cell_type": "code",
   "execution_count": 43,
   "metadata": {},
   "outputs": [
    {
     "name": "stdout",
     "output_type": "stream",
     "text": [
      "f\n"
     ]
    }
   ],
   "source": [
    "\n",
    "# Python example to demonstrate most_elements() on\n",
    "# Counter\n",
    "from collections import Counter\n",
    "  \n",
    "coun = Counter(a=1, b=2, c=3, d=120, e=1, f=219)\n",
    "print(coun.most_common(1)[0][0])\n",
    "# # This prints 3 most frequent characters\n",
    "# for letter, count in coun.most_common(1)[0][1]:\n",
    "#     print('%s: %d' % (letter, count))"
   ]
  },
  {
   "cell_type": "code",
   "execution_count": 37,
   "metadata": {},
   "outputs": [
    {
     "name": "stdout",
     "output_type": "stream",
     "text": [
      "Counter({110.2: 2, 115.3: 1, 195.5: 1, 120.5: 1, 90.4: 1, 105.6: 1, 116.3: 1, 122.3: 1, 125.4: 1})\n",
      "2\n",
      "dict_items([(115.3, 1), (195.5, 1), (120.5, 1), (110.2, 2), (90.4, 1), (105.6, 1), (116.3, 1), (122.3, 1), (125.4, 1)])\n",
      "110.2\n"
     ]
    }
   ],
   "source": [
    "#mode\n",
    "from collections import Counter\n",
    "def my_mode(sample):\n",
    "    c = Counter(sample)\n",
    "    print(c)\n",
    "    print(c.most_common(1)[0][1])\n",
    "    print(c.items())\n",
    "    for k,v in c.items():\n",
    "        if v == c.most_common(1)[0][1]:\n",
    "            \n",
    "            return k\n",
    "#     return [k for k, v in c.items() if v == c.most_common(1)[0][1]]\n",
    "c = [115.3,195.5,120.5,110.2,90.4,105.6,110.2,116.3,122.3,125.4]\n",
    "mode = my_mode(c)\n",
    "print(mode)\n",
    "# print(statistics.mode(c))\n",
    "# print(statistics.multimode(c))"
   ]
  },
  {
   "cell_type": "code",
   "execution_count": 38,
   "metadata": {},
   "outputs": [
    {
     "name": "stdout",
     "output_type": "stream",
     "text": [
      "110.2\n"
     ]
    }
   ],
   "source": [
    "from collections import Counter\n",
    "def my_mode(arr):\n",
    "    c = Counter(arr)\n",
    "    for k,v in c.items():\n",
    "        if v == c.most_common(1)[0][1]:\n",
    "            return k\n",
    "mod=my_mode(c)\n",
    "print(mod)"
   ]
  },
  {
   "cell_type": "code",
   "execution_count": 40,
   "metadata": {},
   "outputs": [
    {
     "name": "stdout",
     "output_type": "stream",
     "text": [
      "mode=  110.2\n"
     ]
    }
   ],
   "source": [
    "maxim=0\n",
    "for i in range(len(c)):\n",
    "    count=0\n",
    "    for j in range(len(c)):\n",
    "        if(c[i]==c[j]):\n",
    "            count+=1\n",
    "    if(maxim<=count):\n",
    "        maxim=count\n",
    "        mode=c[i]\n",
    "if(maxim==1):\n",
    "    print(\"no mode\")\n",
    "else: \n",
    "    print(\"mode= \",mode)"
   ]
  },
  {
   "cell_type": "code",
   "execution_count": 49,
   "metadata": {},
   "outputs": [
    {
     "name": "stdout",
     "output_type": "stream",
     "text": [
      "std:  27.953614355849503\n",
      "var:  781.4045555555555\n",
      "27.953614355849503\n",
      "781.4045555555555\n"
     ]
    }
   ],
   "source": [
    "# std-dev and variance\n",
    "\n",
    "d = [115.3,195.5,120.5,110.2,90.4,105.6,110.2,116.3,122.3,125.4]\n",
    "# mean = statistics.mean(d)\n",
    "# sum=0\n",
    "# for i in d:\n",
    "#     sum = sum + ((i-mean)**2)\n",
    "    \n",
    "# variance = sum/(len(d)-1)\n",
    "# stdev = variance**(1/2)\n",
    "# print(\"stdev: \",stdev)\n",
    "# print(\"variance: \",variance)\n",
    "# print(statistics.variance(d))\n",
    "# print(statistics.stdev(d))\n",
    "\n",
    "mean = statistics.mean(d)\n",
    "sum=0\n",
    "for i in d:\n",
    "    sum = sum + ((i-mean)**2)\n",
    "variance = sum/(len(d)-1)\n",
    "stdev = (variance)**(1/2)\n",
    "print(\"std: \",stdev)\n",
    "print(\"var: \",variance)\n",
    "print(statistics.stdev(d))\n",
    "print(statistics.variance(d))"
   ]
  },
  {
   "cell_type": "code",
   "execution_count": 55,
   "metadata": {},
   "outputs": [
    {
     "name": "stdout",
     "output_type": "stream",
     "text": [
      "[0.23691722169362506, 1.0, 0.2863939105613701, 0.18839200761179828, 0.0, 0.14462416745956222, 0.18839200761179828, 0.24643196955280677, 0.3035204567078972, 0.3330161750713606]\n",
      "0.29276879162702185\n"
     ]
    }
   ],
   "source": [
    "#normalization\n",
    "x = [115.3,195.5,120.5,110.2,90.4,105.6,110.2,116.3,122.3,125.4]\n",
    "y = []\n",
    "for i in x:\n",
    "    y.append((i-min(x))/(max(x)-min(x)))\n",
    "print(y)\n",
    "print(statistics.mean(y))\n",
    "\n",
    "# y=[]\n",
    "# for i in x:\n",
    "#     y.append((i-min(x))/(max(x)-min(x)))\n",
    "# print(statistics.mean(y))\n"
   ]
  },
  {
   "cell_type": "code",
   "execution_count": 58,
   "metadata": {},
   "outputs": [
    {
     "name": "stdout",
     "output_type": "stream",
     "text": [
      "-6.591949208711867e-17\n",
      "1.0\n",
      "-6.591949208711867e-17\n",
      "1.0\n"
     ]
    }
   ],
   "source": [
    "stndrd = []\n",
    "for i in x:\n",
    "    stndrd.append((i-statistics.mean(x))/statistics.stdev(x))\n",
    "print(statistics.mean(stndrd))\n",
    "print(statistics.stdev(stndrd))\n",
    "\n",
    "stndrd = []\n",
    "for i in x:\n",
    "    stndrd.append((i-statistics.mean(x))/(statistics.stdev(x)))\n",
    "print(statistics.mean(stndrd))\n",
    "print(statistics.stdev(stndrd))"
   ]
  },
  {
   "cell_type": "code",
   "execution_count": null,
   "metadata": {},
   "outputs": [],
   "source": []
  }
 ],
 "metadata": {
  "kernelspec": {
   "display_name": "Python 3",
   "language": "python",
   "name": "python3"
  },
  "language_info": {
   "codemirror_mode": {
    "name": "ipython",
    "version": 3
   },
   "file_extension": ".py",
   "mimetype": "text/x-python",
   "name": "python",
   "nbconvert_exporter": "python",
   "pygments_lexer": "ipython3",
   "version": "3.7.3"
  }
 },
 "nbformat": 4,
 "nbformat_minor": 2
}
